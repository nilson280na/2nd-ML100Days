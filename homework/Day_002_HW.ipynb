{
 "cells": [
  {
   "cell_type": "markdown",
   "metadata": {},
   "source": [
    "## 練習時間\n",
    "資料的操作有很多，接下來的馬拉松中我們會介紹常被使用到的操作，參加者不妨先自行想像一下，第一次看到資料，我們一般會想知道什麼訊息？\n",
    "\n",
    "#### Ex: 如何知道資料的 row 數以及 column 數、有什麼欄位、多少欄位、如何截取部分的資料等等\n",
    "\n",
    "有了對資料的好奇之後，我們又怎麼通過程式碼來達成我們的目的呢？\n",
    "\n",
    "#### 可參考該[基礎教材](https://bookdata.readthedocs.io/en/latest/base/01_pandas.html#DataFrame-%E5%85%A5%E9%97%A8)或自行 google"
   ]
  },
  {
   "cell_type": "code",
   "execution_count": 2,
   "metadata": {},
   "outputs": [],
   "source": [
    "import os\n",
    "import numpy as np\n",
    "import pandas as pd"
   ]
  },
  {
   "cell_type": "code",
   "execution_count": 3,
   "metadata": {},
   "outputs": [],
   "source": [
    "# 設定 data_path\n",
    "dir_data = './data/'"
   ]
  },
  {
   "cell_type": "code",
   "execution_count": 4,
   "metadata": {},
   "outputs": [
    {
     "name": "stdout",
     "output_type": "stream",
     "text": [
      "Path of read in data: ./data/application_train.csv\n"
     ]
    }
   ],
   "source": [
    "f_app = os.path.join(dir_data, 'application_train.csv')\n",
    "print('Path of read in data: %s' % (f_app))\n",
    "app_train = pd.read_csv(f_app)"
   ]
  },
  {
   "cell_type": "markdown",
   "metadata": {},
   "source": [
    "### 如果沒有想法，可以先嘗試找出剛剛例子中提到的問題的答案\n",
    "#### 資料的 row 數以及 column 數"
   ]
  },
  {
   "cell_type": "code",
   "execution_count": 62,
   "metadata": {},
   "outputs": [
    {
     "name": "stdout",
     "output_type": "stream",
     "text": [
      "The data total row is: 307511\n",
      "The data total column is: 122\n"
     ]
    }
   ],
   "source": [
    "data_total_row_col = app_train.shape\n",
    "data_row_num = app_train.shape[0]\n",
    "print(\"The data total row is:\", data_row_num)\n",
    "data_col_num = app_train.shape[1]\n",
    "print(\"The data total column is:\", data_col_num)"
   ]
  },
  {
   "cell_type": "markdown",
   "metadata": {},
   "source": [
    "#### 列出所有欄位"
   ]
  },
  {
   "cell_type": "code",
   "execution_count": 63,
   "metadata": {},
   "outputs": [
    {
     "name": "stdout",
     "output_type": "stream",
     "text": [
      "SK_ID_CURR\n",
      "TARGET\n",
      "NAME_CONTRACT_TYPE\n",
      "CODE_GENDER\n",
      "FLAG_OWN_CAR\n",
      "FLAG_OWN_REALTY\n",
      "CNT_CHILDREN\n",
      "AMT_INCOME_TOTAL\n",
      "AMT_CREDIT\n",
      "AMT_ANNUITY\n",
      "AMT_GOODS_PRICE\n",
      "NAME_TYPE_SUITE\n",
      "NAME_INCOME_TYPE\n",
      "NAME_EDUCATION_TYPE\n",
      "NAME_FAMILY_STATUS\n",
      "NAME_HOUSING_TYPE\n",
      "REGION_POPULATION_RELATIVE\n",
      "DAYS_BIRTH\n",
      "DAYS_EMPLOYED\n",
      "DAYS_REGISTRATION\n",
      "DAYS_ID_PUBLISH\n",
      "OWN_CAR_AGE\n",
      "FLAG_MOBIL\n",
      "FLAG_EMP_PHONE\n",
      "FLAG_WORK_PHONE\n",
      "FLAG_CONT_MOBILE\n",
      "FLAG_PHONE\n",
      "FLAG_EMAIL\n",
      "OCCUPATION_TYPE\n",
      "CNT_FAM_MEMBERS\n",
      "REGION_RATING_CLIENT\n",
      "REGION_RATING_CLIENT_W_CITY\n",
      "WEEKDAY_APPR_PROCESS_START\n",
      "HOUR_APPR_PROCESS_START\n",
      "REG_REGION_NOT_LIVE_REGION\n",
      "REG_REGION_NOT_WORK_REGION\n",
      "LIVE_REGION_NOT_WORK_REGION\n",
      "REG_CITY_NOT_LIVE_CITY\n",
      "REG_CITY_NOT_WORK_CITY\n",
      "LIVE_CITY_NOT_WORK_CITY\n",
      "ORGANIZATION_TYPE\n",
      "EXT_SOURCE_1\n",
      "EXT_SOURCE_2\n",
      "EXT_SOURCE_3\n",
      "APARTMENTS_AVG\n",
      "BASEMENTAREA_AVG\n",
      "YEARS_BEGINEXPLUATATION_AVG\n",
      "YEARS_BUILD_AVG\n",
      "COMMONAREA_AVG\n",
      "ELEVATORS_AVG\n",
      "ENTRANCES_AVG\n",
      "FLOORSMAX_AVG\n",
      "FLOORSMIN_AVG\n",
      "LANDAREA_AVG\n",
      "LIVINGAPARTMENTS_AVG\n",
      "LIVINGAREA_AVG\n",
      "NONLIVINGAPARTMENTS_AVG\n",
      "NONLIVINGAREA_AVG\n",
      "APARTMENTS_MODE\n",
      "BASEMENTAREA_MODE\n",
      "YEARS_BEGINEXPLUATATION_MODE\n",
      "YEARS_BUILD_MODE\n",
      "COMMONAREA_MODE\n",
      "ELEVATORS_MODE\n",
      "ENTRANCES_MODE\n",
      "FLOORSMAX_MODE\n",
      "FLOORSMIN_MODE\n",
      "LANDAREA_MODE\n",
      "LIVINGAPARTMENTS_MODE\n",
      "LIVINGAREA_MODE\n",
      "NONLIVINGAPARTMENTS_MODE\n",
      "NONLIVINGAREA_MODE\n",
      "APARTMENTS_MEDI\n",
      "BASEMENTAREA_MEDI\n",
      "YEARS_BEGINEXPLUATATION_MEDI\n",
      "YEARS_BUILD_MEDI\n",
      "COMMONAREA_MEDI\n",
      "ELEVATORS_MEDI\n",
      "ENTRANCES_MEDI\n",
      "FLOORSMAX_MEDI\n",
      "FLOORSMIN_MEDI\n",
      "LANDAREA_MEDI\n",
      "LIVINGAPARTMENTS_MEDI\n",
      "LIVINGAREA_MEDI\n",
      "NONLIVINGAPARTMENTS_MEDI\n",
      "NONLIVINGAREA_MEDI\n",
      "FONDKAPREMONT_MODE\n",
      "HOUSETYPE_MODE\n",
      "TOTALAREA_MODE\n",
      "WALLSMATERIAL_MODE\n",
      "EMERGENCYSTATE_MODE\n",
      "OBS_30_CNT_SOCIAL_CIRCLE\n",
      "DEF_30_CNT_SOCIAL_CIRCLE\n",
      "OBS_60_CNT_SOCIAL_CIRCLE\n",
      "DEF_60_CNT_SOCIAL_CIRCLE\n",
      "DAYS_LAST_PHONE_CHANGE\n",
      "FLAG_DOCUMENT_2\n",
      "FLAG_DOCUMENT_3\n",
      "FLAG_DOCUMENT_4\n",
      "FLAG_DOCUMENT_5\n",
      "FLAG_DOCUMENT_6\n",
      "FLAG_DOCUMENT_7\n",
      "FLAG_DOCUMENT_8\n",
      "FLAG_DOCUMENT_9\n",
      "FLAG_DOCUMENT_10\n",
      "FLAG_DOCUMENT_11\n",
      "FLAG_DOCUMENT_12\n",
      "FLAG_DOCUMENT_13\n",
      "FLAG_DOCUMENT_14\n",
      "FLAG_DOCUMENT_15\n",
      "FLAG_DOCUMENT_16\n",
      "FLAG_DOCUMENT_17\n",
      "FLAG_DOCUMENT_18\n",
      "FLAG_DOCUMENT_19\n",
      "FLAG_DOCUMENT_20\n",
      "FLAG_DOCUMENT_21\n",
      "AMT_REQ_CREDIT_BUREAU_HOUR\n",
      "AMT_REQ_CREDIT_BUREAU_DAY\n",
      "AMT_REQ_CREDIT_BUREAU_WEEK\n",
      "AMT_REQ_CREDIT_BUREAU_MON\n",
      "AMT_REQ_CREDIT_BUREAU_QRT\n",
      "AMT_REQ_CREDIT_BUREAU_YEAR\n"
     ]
    }
   ],
   "source": [
    "# 將header轉換成一個array，並印出array内容\n",
    "\n",
    "data_header = app_train.columns\n",
    "print(*data_header, sep='\\n')"
   ]
  },
  {
   "cell_type": "markdown",
   "metadata": {},
   "source": [
    "#### 截取部分資料"
   ]
  },
  {
   "cell_type": "code",
   "execution_count": 64,
   "metadata": {
    "scrolled": true
   },
   "outputs": [
    {
     "name": "stdout",
     "output_type": "stream",
     "text": [
      "SK_ID_CURR                                             100004\n",
      "TARGET                                                      0\n",
      "NAME_CONTRACT_TYPE                            Revolving loans\n",
      "CODE_GENDER                                                 M\n",
      "FLAG_OWN_CAR                                                Y\n",
      "FLAG_OWN_REALTY                                             Y\n",
      "CNT_CHILDREN                                                0\n",
      "AMT_INCOME_TOTAL                                        67500\n",
      "AMT_CREDIT                                             135000\n",
      "AMT_ANNUITY                                              6750\n",
      "AMT_GOODS_PRICE                                        135000\n",
      "NAME_TYPE_SUITE                                 Unaccompanied\n",
      "NAME_INCOME_TYPE                                      Working\n",
      "NAME_EDUCATION_TYPE             Secondary / secondary special\n",
      "NAME_FAMILY_STATUS                       Single / not married\n",
      "NAME_HOUSING_TYPE                           House / apartment\n",
      "REGION_POPULATION_RELATIVE                           0.010032\n",
      "DAYS_BIRTH                                             -19046\n",
      "DAYS_EMPLOYED                                            -225\n",
      "DAYS_REGISTRATION                                       -4260\n",
      "DAYS_ID_PUBLISH                                         -2531\n",
      "OWN_CAR_AGE                                                26\n",
      "FLAG_MOBIL                                                  1\n",
      "FLAG_EMP_PHONE                                              1\n",
      "FLAG_WORK_PHONE                                             1\n",
      "FLAG_CONT_MOBILE                                            1\n",
      "FLAG_PHONE                                                  1\n",
      "FLAG_EMAIL                                                  0\n",
      "OCCUPATION_TYPE                                      Laborers\n",
      "CNT_FAM_MEMBERS                                             1\n",
      "REGION_RATING_CLIENT                                        2\n",
      "REGION_RATING_CLIENT_W_CITY                                 2\n",
      "WEEKDAY_APPR_PROCESS_START                             MONDAY\n",
      "HOUR_APPR_PROCESS_START                                     9\n",
      "REG_REGION_NOT_LIVE_REGION                                  0\n",
      "REG_REGION_NOT_WORK_REGION                                  0\n",
      "LIVE_REGION_NOT_WORK_REGION                                 0\n",
      "REG_CITY_NOT_LIVE_CITY                                      0\n",
      "REG_CITY_NOT_WORK_CITY                                      0\n",
      "LIVE_CITY_NOT_WORK_CITY                                     0\n",
      "ORGANIZATION_TYPE                                  Government\n",
      "EXT_SOURCE_1                                              NaN\n",
      "EXT_SOURCE_2                                         0.555912\n",
      "EXT_SOURCE_3                                         0.729567\n",
      "APARTMENTS_AVG                                            NaN\n",
      "BASEMENTAREA_AVG                                          NaN\n",
      "YEARS_BEGINEXPLUATATION_AVG                               NaN\n",
      "YEARS_BUILD_AVG                                           NaN\n",
      "COMMONAREA_AVG                                            NaN\n",
      "ELEVATORS_AVG                                             NaN\n",
      "ENTRANCES_AVG                                             NaN\n",
      "FLOORSMAX_AVG                                             NaN\n",
      "FLOORSMIN_AVG                                             NaN\n",
      "LANDAREA_AVG                                              NaN\n",
      "LIVINGAPARTMENTS_AVG                                      NaN\n",
      "LIVINGAREA_AVG                                            NaN\n",
      "NONLIVINGAPARTMENTS_AVG                                   NaN\n",
      "NONLIVINGAREA_AVG                                         NaN\n",
      "APARTMENTS_MODE                                           NaN\n",
      "BASEMENTAREA_MODE                                         NaN\n",
      "YEARS_BEGINEXPLUATATION_MODE                              NaN\n",
      "YEARS_BUILD_MODE                                          NaN\n",
      "COMMONAREA_MODE                                           NaN\n",
      "ELEVATORS_MODE                                            NaN\n",
      "ENTRANCES_MODE                                            NaN\n",
      "FLOORSMAX_MODE                                            NaN\n",
      "FLOORSMIN_MODE                                            NaN\n",
      "LANDAREA_MODE                                             NaN\n",
      "LIVINGAPARTMENTS_MODE                                     NaN\n",
      "LIVINGAREA_MODE                                           NaN\n",
      "NONLIVINGAPARTMENTS_MODE                                  NaN\n",
      "NONLIVINGAREA_MODE                                        NaN\n",
      "APARTMENTS_MEDI                                           NaN\n",
      "BASEMENTAREA_MEDI                                         NaN\n",
      "YEARS_BEGINEXPLUATATION_MEDI                              NaN\n",
      "YEARS_BUILD_MEDI                                          NaN\n",
      "COMMONAREA_MEDI                                           NaN\n",
      "ELEVATORS_MEDI                                            NaN\n",
      "ENTRANCES_MEDI                                            NaN\n",
      "FLOORSMAX_MEDI                                            NaN\n",
      "FLOORSMIN_MEDI                                            NaN\n",
      "LANDAREA_MEDI                                             NaN\n",
      "LIVINGAPARTMENTS_MEDI                                     NaN\n",
      "LIVINGAREA_MEDI                                           NaN\n",
      "NONLIVINGAPARTMENTS_MEDI                                  NaN\n",
      "NONLIVINGAREA_MEDI                                        NaN\n",
      "FONDKAPREMONT_MODE                                        NaN\n",
      "HOUSETYPE_MODE                                            NaN\n",
      "TOTALAREA_MODE                                            NaN\n",
      "WALLSMATERIAL_MODE                                        NaN\n",
      "EMERGENCYSTATE_MODE                                       NaN\n",
      "OBS_30_CNT_SOCIAL_CIRCLE                                    0\n",
      "DEF_30_CNT_SOCIAL_CIRCLE                                    0\n",
      "OBS_60_CNT_SOCIAL_CIRCLE                                    0\n",
      "DEF_60_CNT_SOCIAL_CIRCLE                                    0\n",
      "DAYS_LAST_PHONE_CHANGE                                   -815\n",
      "FLAG_DOCUMENT_2                                             0\n",
      "FLAG_DOCUMENT_3                                             0\n",
      "FLAG_DOCUMENT_4                                             0\n",
      "FLAG_DOCUMENT_5                                             0\n",
      "FLAG_DOCUMENT_6                                             0\n",
      "FLAG_DOCUMENT_7                                             0\n",
      "FLAG_DOCUMENT_8                                             0\n",
      "FLAG_DOCUMENT_9                                             0\n",
      "FLAG_DOCUMENT_10                                            0\n",
      "FLAG_DOCUMENT_11                                            0\n",
      "FLAG_DOCUMENT_12                                            0\n",
      "FLAG_DOCUMENT_13                                            0\n",
      "FLAG_DOCUMENT_14                                            0\n",
      "FLAG_DOCUMENT_15                                            0\n",
      "FLAG_DOCUMENT_16                                            0\n",
      "FLAG_DOCUMENT_17                                            0\n",
      "FLAG_DOCUMENT_18                                            0\n",
      "FLAG_DOCUMENT_19                                            0\n",
      "FLAG_DOCUMENT_20                                            0\n",
      "FLAG_DOCUMENT_21                                            0\n",
      "AMT_REQ_CREDIT_BUREAU_HOUR                                  0\n",
      "AMT_REQ_CREDIT_BUREAU_DAY                                   0\n",
      "AMT_REQ_CREDIT_BUREAU_WEEK                                  0\n",
      "AMT_REQ_CREDIT_BUREAU_MON                                   0\n",
      "AMT_REQ_CREDIT_BUREAU_QRT                                   0\n",
      "AMT_REQ_CREDIT_BUREAU_YEAR                                  0\n",
      "Name: 2, dtype: object\n"
     ]
    }
   ],
   "source": [
    "#截取data第3筆的資料内容\n",
    "\n",
    "data_content = app_train.iloc[2]\n",
    "pd.set_option('display.max_rows', data_col_num)\n",
    "print(data_content)"
   ]
  },
  {
   "cell_type": "markdown",
   "metadata": {},
   "source": [
    "#### 還有各種數之不盡的資料操作，重點還是取決於實務中遇到的狀況和你想問的問題，在馬拉松中我們也會陸續提到更多例子"
   ]
  },
  {
   "cell_type": "code",
   "execution_count": null,
   "metadata": {
    "collapsed": true
   },
   "outputs": [],
   "source": []
  }
 ],
 "metadata": {
  "kernelspec": {
   "display_name": "Python 3",
   "language": "python",
   "name": "python3"
  },
  "language_info": {
   "codemirror_mode": {
    "name": "ipython",
    "version": 3
   },
   "file_extension": ".py",
   "mimetype": "text/x-python",
   "name": "python",
   "nbconvert_exporter": "python",
   "pygments_lexer": "ipython3",
   "version": "3.7.3"
  }
 },
 "nbformat": 4,
 "nbformat_minor": 2
}
